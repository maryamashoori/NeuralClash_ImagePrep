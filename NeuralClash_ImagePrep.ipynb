{
 "cells": [
  {
   "cell_type": "code",
   "execution_count": 28,
   "metadata": {},
   "outputs": [],
   "source": [
    "from PIL import Image\n",
    "import os\n",
    "import fnmatch\n",
    "from tqdm import tqdm\n",
    "import math\n",
    "\n",
    "resolution = 1024 # size of the images. In this example 1024X1024 \n",
    "input_path = \"../data/raw/\"\n",
    "output_path = \"../data/prepared/\""
   ]
  },
  {
   "cell_type": "markdown",
   "metadata": {},
   "source": [
    "# Step 1 : Loading the images into the memory"
   ]
  },
  {
   "cell_type": "code",
   "execution_count": 29,
   "metadata": {},
   "outputs": [
    {
     "name": "stdout",
     "output_type": "stream",
     "text": [
      "loaded 82 images\n"
     ]
    }
   ],
   "source": [
    "images = []\n",
    "for root, dirnames, filenames in os.walk(input_path):\n",
    "    for filename in fnmatch.filter(filenames, '*.png'):\n",
    "        images.append(os.path.join(root, filename))\n",
    "    for filename in fnmatch.filter(filenames, '*.jpg'):\n",
    "        images.append(os.path.join(root, filename))\n",
    "\n",
    "n = len(images)\n",
    "print(\"loaded %d images\" % n)"
   ]
  },
  {
   "cell_type": "markdown",
   "metadata": {},
   "source": [
    "# Step 2 : Resizing\n",
    "If the image dimensions are larger than the desired resolution, the image is cropped to the size, if not the image is disregarded."
   ]
  },
  {
   "cell_type": "code",
   "execution_count": 30,
   "metadata": {},
   "outputs": [
    {
     "name": "stderr",
     "output_type": "stream",
     "text": [
      "82it [00:21,  3.16it/s]\n"
     ]
    }
   ],
   "source": [
    "for i, img in tqdm(enumerate(images)):\n",
    "    im = Image.open(img)\n",
    "    #im = im.rotate(90)\n",
    "    width, height = im.size\n",
    "    if (width >= resolution and height >= resolution):\n",
    "        if (width >= height):\n",
    "            wsize = math.ceil (resolution * width / height)\n",
    "            resized = im.resize((wsize, resolution), Image.ANTIALIAS)\n",
    "            croppsize = math.ceil ((wsize - resolution )/2)\n",
    "            left, top, right, bottom = croppsize, 0, resolution+croppsize, resolution\n",
    "            cropped = resized.crop( ( left, top, right, bottom ) ) \n",
    "        else:\n",
    "            hsize = math.ceil(resolution * height / width)\n",
    "            croppsize = math.ceil((hsize - resolution )/2)\n",
    "            resized = im.resize((resolution, hsize), Image.ANTIALIAS)\n",
    "            left, top, right, bottom = 0, croppsize, resolution, resolution+croppsize \n",
    "            cropped = resized.crop( ( left, top, right, bottom ) ) \n",
    "        cropped= cropped.convert(\"RGB\")\n",
    "        cropped.save(output_path + str(i) + '_resized.jpg')"
   ]
  },
  {
   "cell_type": "markdown",
   "metadata": {},
   "source": [
    "# Step 3 (Optional): Generating more data by partial cropping the initial large images "
   ]
  },
  {
   "cell_type": "code",
   "execution_count": 31,
   "metadata": {},
   "outputs": [
    {
     "name": "stderr",
     "output_type": "stream",
     "text": [
      "82it [00:17,  4.62it/s]\n"
     ]
    }
   ],
   "source": [
    "for i, img in tqdm(enumerate(images)):\n",
    "    im = Image.open(img)\n",
    "    im = im.convert(\"RGB\")\n",
    "    width, height = im.size\n",
    "    if width>resolution and height>resolution:\n",
    "        left, top, right, bottom = 0, 0, resolution, resolution\n",
    "        cropped = im.crop( ( left, top, right, bottom ) ) \n",
    "        cropped.save(output_path + str(i)+'_1.jpg')\n",
    "        if width>=(resolution*2) and height>=(resolution*2):\n",
    "            left, top, right, bottom = resolution, 0, (resolution*2), resolution\n",
    "            cropped = im.crop( ( left, top, right, bottom ) ) \n",
    "            cropped.save(output_path + str(i)+'_2.jpg')\n",
    "            \n",
    "            left, top, right, bottom = 0, resolution, resolution, (resolution*2)\n",
    "            cropped = im.crop( ( left, top, right, bottom ) ) \n",
    "            cropped.save(output_path + str(i)+'_3.jpg')\n",
    "            \n",
    "            left, top, right, bottom = resolution, resolution, (resolution*2), (resolution*2)\n",
    "            cropped = im.crop( ( left, top, right, bottom ) ) \n",
    "            cropped.save(output_path + str(i)+'_4.jpg')\n",
    "        if width>=(resolution*3) and height>=(resolution*3):\n",
    "            left, top, right, bottom = (resolution*2), 0, (resolution*3), resolution\n",
    "            cropped = im.crop( ( left, top, right, bottom ) ) \n",
    "            cropped.save(output_path + str(i)+'_5.jpg')\n",
    "            \n",
    "            left, top, right, bottom = (resolution*2), resolution, (resolution*3), (resolution*2)\n",
    "            cropped = im.crop( ( left, top, right, bottom ) ) \n",
    "            cropped.save(output_path + str(i)+'_6.jpg')\n",
    "            \n",
    "            left, top, right, bottom = 0, (resolution*2), resolution, (resolution*3)\n",
    "            cropped = im.crop( ( left, top, right, bottom ) ) \n",
    "            cropped.save(output_path + str(i)+'_7.jpg') \n",
    "\n",
    "            left, top, right, bottom = (resolution*2), (resolution*2), (resolution*3), (resolution*3)\n",
    "            cropped = im.crop( ( left, top, right, bottom ) ) \n",
    "            cropped.save(output_path + str(i)+'_8.jpg')\n",
    "            \n",
    "            left, top, right, bottom = resolution, (resolution*2), (resolution*2), (resolution*3)\n",
    "            cropped = im.crop( ( left, top, right, bottom ) ) \n",
    "            cropped.save(output_path + str(i)+'_9.jpg') \n",
    "            \n",
    "        if width>=(resolution*4) and height>=(resolution*4):\n",
    "            left, top, right, bottom = (resolution*3), 0, (resolution*4), resolution\n",
    "            cropped = im.crop( ( left, top, right, bottom ) ) \n",
    "            cropped.save(output_path + str(i)+'_10.jpg')\n",
    "            \n",
    "            left, top, right, bottom = (resolution*3), resolution, (resolution*4), (resolution*2)\n",
    "            cropped = im.crop( ( left, top, right, bottom ) ) \n",
    "            cropped.save(output_path + str(i)+'_11.jpg')\n",
    "            \n",
    "            left, top, right, bottom = (resolution*3), (resolution*2), (resolution*4), (resolution*3)\n",
    "            cropped = im.crop( ( left, top, right, bottom ) ) \n",
    "            cropped.save(output_path + str(i)+'_12.jpg') \n",
    "\n",
    "            left, top, right, bottom = 0, (resolution*3), resolution, (resolution*4)\n",
    "            cropped = im.crop( ( left, top, right, bottom ) ) \n",
    "            cropped.save(output_path + str(i)+'_13.jpg')\n",
    "            \n",
    "            left, top, right, bottom = resolution, (resolution*3), (resolution*2), (resolution*4)\n",
    "            cropped = im.crop( ( left, top, right, bottom ) ) \n",
    "            cropped.save(output_path + str(i)+'_14.jpg') \n",
    "            \n",
    "            left, top, right, bottom = (resolution*2), (resolution*3), (resolution*3), (resolution*4)\n",
    "            cropped = im.crop( ( left, top, right, bottom ) ) \n",
    "            cropped.save(output_path + str(i)+'_15.jpg')\n",
    "            \n",
    "            left, top, right, bottom = (resolution*3), (resolution*3), (resolution*4), (resolution*4)\n",
    "            cropped = im.crop( ( left, top, right, bottom ) ) \n",
    "            cropped.save(output_path + str(i)+'_16.jpg')"
   ]
  },
  {
   "cell_type": "markdown",
   "metadata": {},
   "source": [
    "# Step 4 (Optional): Generating more data by rotation"
   ]
  },
  {
   "cell_type": "code",
   "execution_count": 32,
   "metadata": {},
   "outputs": [
    {
     "name": "stdout",
     "output_type": "stream",
     "text": [
      "loaded 369 images\n"
     ]
    }
   ],
   "source": [
    "input_path = output_path\n",
    "\n",
    "images = []\n",
    "for root, dirnames, filenames in os.walk(input_path):\n",
    "    for filename in fnmatch.filter(filenames, '*.png'):\n",
    "        images.append(os.path.join(root, filename))\n",
    "    for filename in fnmatch.filter(filenames, '*.jpg'):\n",
    "        images.append(os.path.join(root, filename))\n",
    "\n",
    "n = len(images)\n",
    "print(\"loaded %d images\" % n)"
   ]
  },
  {
   "cell_type": "code",
   "execution_count": 33,
   "metadata": {},
   "outputs": [
    {
     "name": "stderr",
     "output_type": "stream",
     "text": [
      "369it [00:14, 26.45it/s]\n"
     ]
    }
   ],
   "source": [
    "for i, img in tqdm(enumerate(images)):\n",
    "    im = Image.open(img)\n",
    "    im = im.rotate(90)\n",
    "    im = im.convert(\"RGB\")\n",
    "    im.save(output_path + str(i) + '_rotated.jpg')"
   ]
  }
 ],
 "metadata": {
  "kernelspec": {
   "display_name": "Python 3",
   "language": "python",
   "name": "python3"
  },
  "language_info": {
   "codemirror_mode": {
    "name": "ipython",
    "version": 3
   },
   "file_extension": ".py",
   "mimetype": "text/x-python",
   "name": "python",
   "nbconvert_exporter": "python",
   "pygments_lexer": "ipython3",
   "version": "3.7.3"
  }
 },
 "nbformat": 4,
 "nbformat_minor": 2
}
